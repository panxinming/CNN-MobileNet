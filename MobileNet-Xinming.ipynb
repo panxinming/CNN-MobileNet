{
 "cells": [
  {
   "cell_type": "markdown",
   "id": "7e2441da",
   "metadata": {},
   "source": [
    "# Mobile Net For Image Classification"
   ]
  },
  {
   "cell_type": "code",
   "execution_count": 8,
   "id": "870c934a",
   "metadata": {},
   "outputs": [],
   "source": [
    "from utils.model import Basic_CNN, mobilenet\n",
    "import tensorflow as tf\n",
    "from keras.optimizers import Adam, SGD\n",
    "from keras.optimizers import SGD, RMSprop, Adam, Nadam\n",
    "from keras.models import Sequential\n",
    "from keras.layers import Dense, Flatten, Conv2D, DepthwiseConv2D, AveragePooling2D, Activation\n",
    "from keras.layers import BatchNormalization, Dropout\n",
    "from keras import backend\n"
   ]
  },
  {
   "cell_type": "markdown",
   "id": "917e5eb3",
   "metadata": {},
   "source": [
    "## 1. Basic CNN"
   ]
  },
  {
   "cell_type": "code",
   "execution_count": 2,
   "id": "1d335c8f",
   "metadata": {},
   "outputs": [],
   "source": [
    "#Load data from the Fashion MNIST dataset\n",
    "fashion_mnist = tf.keras.datasets.fashion_mnist\n",
    "\n",
    "(x_train, y_train), (x_test, y_test) = fashion_mnist.load_data()\n",
    "x_train, x_test = x_train / 255.0, x_test / 255.0\n",
    "\n",
    "# Add a channels dimension28\n",
    "x_train = x_train[..., tf.newaxis].astype(\"float32\")\n",
    "x_test = x_test[..., tf.newaxis].astype(\"float32\")"
   ]
  },
  {
   "cell_type": "code",
   "execution_count": 18,
   "id": "13b36a13",
   "metadata": {},
   "outputs": [],
   "source": [
    "class mobilenet:\n",
    "    def __init__(self, input_dim, num_classes):\n",
    "        self.input_dim = input_dim\n",
    "        self.num_classes = num_classes\n",
    "        self.model = None\n",
    "        \n",
    "    def create_empty_model(self):\n",
    "        model = Sequential()\n",
    "        self.model = model\n",
    "    \n",
    "    def add_layer(self,use_batch = True, use_drop = True):\n",
    "        self.model.add(Conv2D(32, (3,3),strides=2))\n",
    "        self.model.add(DepthwiseConv2D((3,3), strides=1))\n",
    "        \n",
    "        self.model.add(Conv2D(64, (1,1),strides=1))\n",
    "\n",
    "        \n",
    "        self.model.add(AveragePooling2D((7,7)))\n",
    "        self.model.add(Flatten())\n",
    "        self.model.add(Dense(self.num_classes, activation=\"softmax\"))\n",
    "        \n",
    "    def train(self,x_train,y_train,optimizer,loss='sparse_categorical_crossentropy',val_split = 0.2,\n",
    "             epochs = 2, batch_size = 256):\n",
    "        \n",
    "        self.model.compile(optimizer=optimizer,loss=loss,metrics=['accuracy'])\n",
    "        self.model.fit(x=x_train, \n",
    "                       y=y_train,\n",
    "                       validation_split = val_split,\n",
    "                       batch_size=batch_size,\n",
    "                       epochs=epochs)\n",
    "        \n",
    "    def summary(self):\n",
    "        return self.model.summary()"
   ]
  },
  {
   "cell_type": "code",
   "execution_count": 19,
   "id": "e5379b19",
   "metadata": {},
   "outputs": [
    {
     "name": "stdout",
     "output_type": "stream",
     "text": [
      "Epoch 1/2\n",
      "188/188 [==============================] - 6s 26ms/step - loss: 1.8180 - accuracy: 0.3207 - val_loss: 1.3195 - val_accuracy: 0.5156\n",
      "Epoch 2/2\n",
      "188/188 [==============================] - 4s 23ms/step - loss: 1.1389 - accuracy: 0.5885 - val_loss: 1.0414 - val_accuracy: 0.6237\n"
     ]
    }
   ],
   "source": [
    "CNN_model = mobilenet((28,28,1),10)\n",
    "CNN_model.create_empty_model()\n",
    "CNN_model.add_layer()\n",
    "CNN_model.train(x_train=x_train,y_train=y_train,optimizer=Adam(0.001),epochs=2)"
   ]
  },
  {
   "cell_type": "code",
   "execution_count": null,
   "id": "6979bf1c",
   "metadata": {},
   "outputs": [],
   "source": []
  },
  {
   "cell_type": "code",
   "execution_count": 5,
   "id": "752ad8d2",
   "metadata": {
    "scrolled": true
   },
   "outputs": [
    {
     "name": "stdout",
     "output_type": "stream",
     "text": [
      "Model: \"sequential_1\"\n",
      "_________________________________________________________________\n",
      " Layer (type)                Output Shape              Param #   \n",
      "=================================================================\n",
      " conv2d_1 (Conv2D)           (None, 13, 13, 32)        320       \n",
      "                                                                 \n",
      " depthwise_conv2d_1 (Depthwi  (None, 11, 11, 32)       320       \n",
      " seConv2D)                                                       \n",
      "                                                                 \n",
      " average_pooling2d_1 (Averag  (None, 1, 1, 32)         0         \n",
      " ePooling2D)                                                     \n",
      "                                                                 \n",
      " flatten_1 (Flatten)         (None, 32)                0         \n",
      "                                                                 \n",
      " dense_1 (Dense)             (None, 10)                330       \n",
      "                                                                 \n",
      "=================================================================\n",
      "Total params: 970\n",
      "Trainable params: 970\n",
      "Non-trainable params: 0\n",
      "_________________________________________________________________\n"
     ]
    }
   ],
   "source": [
    "CNN_model.summary()"
   ]
  },
  {
   "cell_type": "markdown",
   "id": "0526c690",
   "metadata": {},
   "source": [
    "我在Model的文件里，创建了一个MobileNet和BasicCNN\n",
    "\n",
    "BasicCNN 可以跑， MobileNet好像不太能跑，你们可以看一下 差不多就是这样。"
   ]
  },
  {
   "cell_type": "code",
   "execution_count": null,
   "id": "8aa2c73d",
   "metadata": {},
   "outputs": [],
   "source": []
  }
 ],
 "metadata": {
  "kernelspec": {
   "display_name": "Python 3 (ipykernel)",
   "language": "python",
   "name": "python3"
  },
  "language_info": {
   "codemirror_mode": {
    "name": "ipython",
    "version": 3
   },
   "file_extension": ".py",
   "mimetype": "text/x-python",
   "name": "python",
   "nbconvert_exporter": "python",
   "pygments_lexer": "ipython3",
   "version": "3.9.12"
  },
  "toc": {
   "base_numbering": 1,
   "nav_menu": {},
   "number_sections": false,
   "sideBar": false,
   "skip_h1_title": false,
   "title_cell": "Table of Contents",
   "title_sidebar": "Contents",
   "toc_cell": false,
   "toc_position": {
    "height": "47.71px",
    "left": "25px",
    "top": "111.14px",
    "width": "158.99px"
   },
   "toc_section_display": false,
   "toc_window_display": true
  },
  "varInspector": {
   "cols": {
    "lenName": 16,
    "lenType": 16,
    "lenVar": 40
   },
   "kernels_config": {
    "python": {
     "delete_cmd_postfix": "",
     "delete_cmd_prefix": "del ",
     "library": "var_list.py",
     "varRefreshCmd": "print(var_dic_list())"
    },
    "r": {
     "delete_cmd_postfix": ") ",
     "delete_cmd_prefix": "rm(",
     "library": "var_list.r",
     "varRefreshCmd": "cat(var_dic_list()) "
    }
   },
   "types_to_exclude": [
    "module",
    "function",
    "builtin_function_or_method",
    "instance",
    "_Feature"
   ],
   "window_display": false
  }
 },
 "nbformat": 4,
 "nbformat_minor": 5
}
