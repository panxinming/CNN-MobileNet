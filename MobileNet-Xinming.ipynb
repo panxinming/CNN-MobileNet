{
 "cells": [
  {
   "cell_type": "markdown",
   "id": "7e2441da",
   "metadata": {},
   "source": [
    "# Mobile Net For Image Classification"
   ]
  },
  {
   "cell_type": "code",
   "execution_count": 1,
   "id": "870c934a",
   "metadata": {},
   "outputs": [],
   "source": [
    "from utils.model import *\n",
    "import tensorflow as tf\n",
    "from keras.optimizers import SGD, RMSprop, Adam, Nadam\n",
    "import matplotlib.pyplot as plt"
   ]
  },
  {
   "cell_type": "markdown",
   "id": "917e5eb3",
   "metadata": {},
   "source": [
    "## 1. MobileNet"
   ]
  },
  {
   "cell_type": "markdown",
   "id": "ce7b42da",
   "metadata": {},
   "source": [
    "### I. $\\alpha = 1$ "
   ]
  },
  {
   "cell_type": "code",
   "execution_count": 2,
   "id": "1d335c8f",
   "metadata": {},
   "outputs": [],
   "source": [
    "#Load data from the Fashion MNIST dataset\n",
    "fashion_mnist = tf.keras.datasets.fashion_mnist\n",
    "\n",
    "(x_train, y_train), (x_test, y_test) = fashion_mnist.load_data()\n",
    "x_train, x_test = x_train / 255.0, x_test / 255.0\n",
    "\n",
    "# Add a channels dimension28\n",
    "x_train = x_train[..., tf.newaxis].astype(\"float32\")\n",
    "x_test = x_test[..., tf.newaxis].astype(\"float32\")"
   ]
  },
  {
   "cell_type": "code",
   "execution_count": 7,
   "id": "8aa2c73d",
   "metadata": {},
   "outputs": [
    {
     "name": "stdout",
     "output_type": "stream",
     "text": [
      "Epoch 1/10\n",
      "1500/1500 [==============================] - 228s 148ms/step - loss: 0.8063 - accuracy: 0.7289 - val_loss: 1.7194 - val_accuracy: 0.7513\n",
      "Epoch 2/10\n",
      "1500/1500 [==============================] - 216s 144ms/step - loss: 0.4837 - accuracy: 0.8418 - val_loss: 0.4166 - val_accuracy: 0.8618\n",
      "Epoch 3/10\n",
      "1500/1500 [==============================] - 215s 143ms/step - loss: 0.4341 - accuracy: 0.8675 - val_loss: 0.3474 - val_accuracy: 0.8799\n",
      "Epoch 4/10\n",
      "1500/1500 [==============================] - 220s 146ms/step - loss: 0.3781 - accuracy: 0.8781 - val_loss: 0.6125 - val_accuracy: 0.8553\n",
      "Epoch 5/10\n",
      "1500/1500 [==============================] - 221s 147ms/step - loss: 0.3573 - accuracy: 0.8889 - val_loss: 1.2373 - val_accuracy: 0.8689\n",
      "Epoch 6/10\n",
      "1500/1500 [==============================] - 221s 147ms/step - loss: 0.3288 - accuracy: 0.8948 - val_loss: 2.4177 - val_accuracy: 0.8471\n",
      "Epoch 7/10\n",
      "1500/1500 [==============================] - 221s 147ms/step - loss: 0.3158 - accuracy: 0.9024 - val_loss: 0.4065 - val_accuracy: 0.8875\n",
      "Epoch 8/10\n",
      "1500/1500 [==============================] - 221s 147ms/step - loss: 0.2765 - accuracy: 0.9085 - val_loss: 4.0345 - val_accuracy: 0.8730\n",
      "Epoch 9/10\n",
      "1500/1500 [==============================] - 222s 148ms/step - loss: 0.2684 - accuracy: 0.9131 - val_loss: 1.1343 - val_accuracy: 0.8914\n",
      "Epoch 10/10\n",
      "1500/1500 [==============================] - 223s 149ms/step - loss: 0.2602 - accuracy: 0.9167 - val_loss: 0.5049 - val_accuracy: 0.9035\n"
     ]
    }
   ],
   "source": [
    "model = mobilenet(x_train.shape[1:],10, alpha = 1)\n",
    "model.compile(optimizer = RMSprop(learning_rate = 0.001, rho = 0.9), loss = 'sparse_categorical_crossentropy', metrics = ['accuracy'])\n",
    "history = model.fit(x_train,y_train, validation_split=0.2, \n",
    "                    epochs=10, \n",
    "                    verbose = 1)"
   ]
  },
  {
   "cell_type": "code",
   "execution_count": 10,
   "id": "55da390d",
   "metadata": {},
   "outputs": [
    {
     "data": {
      "text/plain": [
       "<matplotlib.legend.Legend at 0x26332968d30>"
      ]
     },
     "execution_count": 10,
     "metadata": {},
     "output_type": "execute_result"
    },
    {
     "data": {
      "image/png": "[encoded data removed]",
      "text/plain": [
       "<Figure size 432x288 with 1 Axes>"
      ]
     },
     "metadata": {
      "needs_background": "light"
     },
     "output_type": "display_data"
    }
   ],
   "source": [
    "plt.plot(history.history[\"accuracy\"], label = \"training\")\n",
    "plt.plot(history.history[\"val_accuracy\"], label = \"validation\")\n",
    "plt.gca().set(xlabel = \"epoch\", ylabel = \"accuracy\")\n",
    "plt.legend()"
   ]
  },
  {
   "cell_type": "markdown",
   "id": "56df6a0e",
   "metadata": {},
   "source": [
    "### II. $\\alpha = 0.75$ "
   ]
  },
  {
   "cell_type": "code",
   "execution_count": 11,
   "id": "5c32cd7e",
   "metadata": {},
   "outputs": [
    {
     "name": "stdout",
     "output_type": "stream",
     "text": [
      "Epoch 1/10\n",
      "1500/1500 [==============================] - 226s 146ms/step - loss: 0.8388 - accuracy: 0.7207 - val_loss: 1.4429 - val_accuracy: 0.7944\n",
      "Epoch 2/10\n",
      "1500/1500 [==============================] - 218s 145ms/step - loss: 0.5259 - accuracy: 0.8266 - val_loss: 0.7282 - val_accuracy: 0.8207\n",
      "Epoch 3/10\n",
      "1500/1500 [==============================] - 220s 147ms/step - loss: 0.4591 - accuracy: 0.8564 - val_loss: 0.4369 - val_accuracy: 0.8477\n",
      "Epoch 4/10\n",
      "1500/1500 [==============================] - 219s 146ms/step - loss: 0.4148 - accuracy: 0.8692 - val_loss: 0.9027 - val_accuracy: 0.8258\n",
      "Epoch 5/10\n",
      "1500/1500 [==============================] - 220s 146ms/step - loss: 0.3740 - accuracy: 0.8781 - val_loss: 0.4260 - val_accuracy: 0.8662\n",
      "Epoch 6/10\n",
      "1500/1500 [==============================] - 217s 145ms/step - loss: 0.3533 - accuracy: 0.8865 - val_loss: 0.3766 - val_accuracy: 0.8832\n",
      "Epoch 7/10\n",
      "1500/1500 [==============================] - 211s 141ms/step - loss: 0.3387 - accuracy: 0.8918 - val_loss: 1.4473 - val_accuracy: 0.8562\n",
      "Epoch 8/10\n",
      "1500/1500 [==============================] - 211s 141ms/step - loss: 0.3128 - accuracy: 0.8986 - val_loss: 0.8190 - val_accuracy: 0.8629\n",
      "Epoch 9/10\n",
      "1500/1500 [==============================] - 212s 141ms/step - loss: 0.2984 - accuracy: 0.9045 - val_loss: 0.4024 - val_accuracy: 0.8863\n",
      "Epoch 10/10\n",
      "1500/1500 [==============================] - 218s 145ms/step - loss: 0.2769 - accuracy: 0.9104 - val_loss: 0.3067 - val_accuracy: 0.8950\n"
     ]
    }
   ],
   "source": [
    "model = mobilenet(x_train.shape[1:],10, alpha = 0.75)\n",
    "model.compile(optimizer = RMSprop(learning_rate = 0.001, rho = 0.9), loss = 'sparse_categorical_crossentropy', metrics = ['accuracy'])\n",
    "history = model.fit(x_train,y_train, validation_split=0.2, \n",
    "                    epochs=10, \n",
    "                    verbose = 1)"
   ]
  },
  {
   "cell_type": "code",
   "execution_count": 12,
   "id": "679b7aab",
   "metadata": {},
   "outputs": [
    {
     "data": {
      "text/plain": [
       "<matplotlib.legend.Legend at 0x2634c7ca430>"
      ]
     },
     "execution_count": 12,
     "metadata": {},
     "output_type": "execute_result"
    },
    {
     "data": {
      "image/png": "[encoded data removed]",
      "text/plain": [
       "<Figure size 432x288 with 1 Axes>"
      ]
     },
     "metadata": {
      "needs_background": "light"
     },
     "output_type": "display_data"
    }
   ],
   "source": [
    "plt.plot(history.history[\"accuracy\"], label = \"training\")\n",
    "plt.plot(history.history[\"val_accuracy\"], label = \"validation\")\n",
    "plt.gca().set(xlabel = \"epoch\", ylabel = \"accuracy\")\n",
    "plt.legend()"
   ]
  },
  {
   "cell_type": "markdown",
   "id": "7fa8140d",
   "metadata": {},
   "source": [
    "### III. $\\alpha = 0.5$ "
   ]
  },
  {
   "cell_type": "code",
   "execution_count": 3,
   "id": "fbbaa027",
   "metadata": {},
   "outputs": [
    {
     "name": "stdout",
     "output_type": "stream",
     "text": [
      "Epoch 1/10\n",
      "1500/1500 [==============================] - 176s 115ms/step - loss: 2.3663 - accuracy: 0.1076 - val_loss: 1562.0995 - val_accuracy: 0.0983\n",
      "Epoch 2/10\n",
      "1500/1500 [==============================] - 178s 119ms/step - loss: 2.2981 - accuracy: 0.1092 - val_loss: 2471.1973 - val_accuracy: 0.0983\n",
      "Epoch 3/10\n",
      "1500/1500 [==============================] - 176s 118ms/step - loss: 2.2893 - accuracy: 0.1097 - val_loss: 2934.9309 - val_accuracy: 0.1030\n",
      "Epoch 4/10\n",
      "1500/1500 [==============================] - 174s 116ms/step - loss: 2.3133 - accuracy: 0.1114 - val_loss: 3495.2766 - val_accuracy: 0.0959\n",
      "Epoch 5/10\n",
      "1500/1500 [==============================] - 173s 115ms/step - loss: 2.3028 - accuracy: 0.1135 - val_loss: 2230.0518 - val_accuracy: 0.0983\n",
      "Epoch 6/10\n",
      "1500/1500 [==============================] - 175s 117ms/step - loss: 2.3006 - accuracy: 0.1101 - val_loss: 4990.5210 - val_accuracy: 0.0983\n",
      "Epoch 7/10\n",
      "1500/1500 [==============================] - 176s 117ms/step - loss: 2.2866 - accuracy: 0.1112 - val_loss: 10425.7734 - val_accuracy: 0.0983\n",
      "Epoch 8/10\n",
      "1500/1500 [==============================] - 176s 117ms/step - loss: 2.2985 - accuracy: 0.1092 - val_loss: 2582.6782 - val_accuracy: 0.0983\n",
      "Epoch 9/10\n",
      "1500/1500 [==============================] - 178s 119ms/step - loss: 2.2912 - accuracy: 0.1119 - val_loss: 2311.7859 - val_accuracy: 0.0983\n",
      "Epoch 10/10\n",
      "1500/1500 [==============================] - 179s 119ms/step - loss: 2.2875 - accuracy: 0.1116 - val_loss: 13163.1016 - val_accuracy: 0.0983\n"
     ]
    }
   ],
   "source": [
    "model = mobilenet(x_train.shape[1:],10, alpha = 0.5)\n",
    "model.compile(optimizer = RMSprop(learning_rate = 0.001, rho = 0.9), loss = 'sparse_categorical_crossentropy', metrics = ['accuracy'])\n",
    "history = model.fit(x_train,y_train, validation_split=0.2, \n",
    "                    epochs=10, \n",
    "                    verbose = 1)"
   ]
  },
  {
   "cell_type": "code",
   "execution_count": 4,
   "id": "8c5b3744",
   "metadata": {},
   "outputs": [
    {
     "data": {
      "text/plain": [
       "<matplotlib.legend.Legend at 0x150ecb7d9d0>"
      ]
     },
     "execution_count": 4,
     "metadata": {},
     "output_type": "execute_result"
    },
    {
     "data": {
      "image/png": "[encoded data removed]",
      "text/plain": [
       "<Figure size 432x288 with 1 Axes>"
      ]
     },
     "metadata": {
      "needs_background": "light"
     },
     "output_type": "display_data"
    }
   ],
   "source": [
    "plt.plot(history.history[\"accuracy\"], label = \"training\")\n",
    "plt.plot(history.history[\"val_accuracy\"], label = \"validation\")\n",
    "plt.gca().set(xlabel = \"epoch\", ylabel = \"accuracy\")\n",
    "plt.legend()"
   ]
  },
  {
   "cell_type": "code",
   "execution_count": 11,
   "id": "045de963",
   "metadata": {},
   "outputs": [
    {
     "name": "stdout",
     "output_type": "stream",
     "text": [
      "Epoch 1/10\n",
      "1500/1500 [==============================] - 181s 118ms/step - loss: 2.3818 - accuracy: 0.1087 - val_loss: 469.8445 - val_accuracy: 0.0983\n",
      "Epoch 2/10\n",
      "1500/1500 [==============================] - 179s 119ms/step - loss: 2.3286 - accuracy: 0.1094 - val_loss: 934.5204 - val_accuracy: 0.0983\n",
      "Epoch 3/10\n",
      "1500/1500 [==============================] - 171s 114ms/step - loss: 2.2995 - accuracy: 0.1124 - val_loss: 9960.4756 - val_accuracy: 0.0983\n",
      "Epoch 4/10\n",
      "1500/1500 [==============================] - 172s 115ms/step - loss: 2.3146 - accuracy: 0.1117 - val_loss: 1797.4169 - val_accuracy: 0.0957\n",
      "Epoch 5/10\n",
      "1500/1500 [==============================] - 176s 117ms/step - loss: 2.3010 - accuracy: 0.1117 - val_loss: 7476.9253 - val_accuracy: 0.0983\n",
      "Epoch 6/10\n",
      "1500/1500 [==============================] - 175s 116ms/step - loss: 2.2868 - accuracy: 0.1102 - val_loss: 3237.9260 - val_accuracy: 0.0983\n",
      "Epoch 7/10\n",
      "1500/1500 [==============================] - 175s 117ms/step - loss: 2.3076 - accuracy: 0.1110 - val_loss: 5648.5352 - val_accuracy: 0.0983\n",
      "Epoch 8/10\n",
      "1500/1500 [==============================] - 175s 117ms/step - loss: 2.2942 - accuracy: 0.1118 - val_loss: 2834.6370 - val_accuracy: 0.0983\n",
      "Epoch 9/10\n",
      "1500/1500 [==============================] - 175s 117ms/step - loss: 2.2942 - accuracy: 0.1130 - val_loss: 1662.6986 - val_accuracy: 0.1032\n",
      "Epoch 10/10\n",
      "1500/1500 [==============================] - 179s 119ms/step - loss: 2.2868 - accuracy: 0.1115 - val_loss: 1514.1337 - val_accuracy: 0.1028\n"
     ]
    }
   ],
   "source": [
    "model = mobilenet(x_train.shape[1:],10, alpha = 0.5)\n",
    "model.compile(optimizer = RMSprop(learning_rate = 0.001, rho = 0.9), loss = 'sparse_categorical_crossentropy', metrics = ['accuracy'])\n",
    "history = model.fit(x_train,y_train, validation_split=0.2, \n",
    "                    epochs=10, \n",
    "                    verbose = 1)"
   ]
  },
  {
   "cell_type": "markdown",
   "id": "41550ffc",
   "metadata": {},
   "source": [
    "## 2. Standard Convolution "
   ]
  },
  {
   "cell_type": "code",
   "execution_count": 13,
   "id": "d5466f2e",
   "metadata": {},
   "outputs": [
    {
     "name": "stdout",
     "output_type": "stream",
     "text": [
      "Epoch 1/10\n",
      "1500/1500 [==============================] - 3388s 2s/step - loss: 1.0371 - accuracy: 0.6119 - val_loss: 1.4692 - val_accuracy: 0.6204\n",
      "Epoch 2/10\n",
      "1500/1500 [==============================] - 3295s 2s/step - loss: 0.6295 - accuracy: 0.7981 - val_loss: 0.9327 - val_accuracy: 0.7584\n",
      "Epoch 3/10\n",
      "1500/1500 [==============================] - 3291s 2s/step - loss: 0.4906 - accuracy: 0.8490 - val_loss: 0.3758 - val_accuracy: 0.8655\n",
      "Epoch 4/10\n",
      "1500/1500 [==============================] - 3273s 2s/step - loss: 0.4267 - accuracy: 0.8716 - val_loss: 0.3580 - val_accuracy: 0.8854\n",
      "Epoch 5/10\n",
      "1500/1500 [==============================] - 3289s 2s/step - loss: 0.3838 - accuracy: 0.8851 - val_loss: 0.3282 - val_accuracy: 0.8952\n",
      "Epoch 6/10\n",
      "1500/1500 [==============================] - 3300s 2s/step - loss: 0.3544 - accuracy: 0.8929 - val_loss: 0.3000 - val_accuracy: 0.9005\n",
      "Epoch 7/10\n",
      "1500/1500 [==============================] - 3298s 2s/step - loss: 0.3280 - accuracy: 0.9026 - val_loss: 0.3023 - val_accuracy: 0.9023\n",
      "Epoch 8/10\n",
      "1500/1500 [==============================] - 3289s 2s/step - loss: 0.2913 - accuracy: 0.9109 - val_loss: 0.3101 - val_accuracy: 0.8944\n",
      "Epoch 9/10\n",
      "1500/1500 [==============================] - 3293s 2s/step - loss: 0.2781 - accuracy: 0.9169 - val_loss: 0.3402 - val_accuracy: 0.8958\n",
      "Epoch 10/10\n",
      "1500/1500 [==============================] - 3288s 2s/step - loss: 0.2598 - accuracy: 0.9210 - val_loss: 1.2206 - val_accuracy: 0.8463\n"
     ]
    }
   ],
   "source": [
    "model = CNN(x_train.shape[1:],10)\n",
    "model.compile(optimizer = RMSprop(learning_rate = 0.001, rho = 0.9), loss = 'sparse_categorical_crossentropy', metrics = ['accuracy'])\n",
    "history = model.fit(x_train,y_train, validation_split=0.2, \n",
    "                    epochs=10, \n",
    "                    verbose = 1)"
   ]
  },
  {
   "cell_type": "code",
   "execution_count": 14,
   "id": "6b3afcbe",
   "metadata": {},
   "outputs": [
    {
     "data": {
      "text/plain": [
       "<matplotlib.legend.Legend at 0x263376ebe20>"
      ]
     },
     "execution_count": 14,
     "metadata": {},
     "output_type": "execute_result"
    },
    {
     "data": {
      "image/png": "[encoded data removed]",
      "text/plain": [
       "<Figure size 432x288 with 1 Axes>"
      ]
     },
     "metadata": {
      "needs_background": "light"
     },
     "output_type": "display_data"
    }
   ],
   "source": [
    "plt.plot(history.history[\"accuracy\"], label = \"training\")\n",
    "plt.plot(history.history[\"val_accuracy\"], label = \"validation\")\n",
    "plt.gca().set(xlabel = \"epoch\", ylabel = \"accuracy\")\n",
    "plt.legend()"
   ]
  },
  {
   "cell_type": "code",
   "execution_count": null,
   "id": "31c36d42",
   "metadata": {},
   "outputs": [],
   "source": []
  }
 ],
 "metadata": {
  "kernelspec": {
   "display_name": "Python 3 (ipykernel)",
   "language": "python",
   "name": "python3"
  },
  "language_info": {
   "codemirror_mode": {
    "name": "ipython",
    "version": 3
   },
   "file_extension": ".py",
   "mimetype": "text/x-python",
   "name": "python",
   "nbconvert_exporter": "python",
   "pygments_lexer": "ipython3",
   "version": "3.9.12"
  },
  "toc": {
   "base_numbering": 1,
   "nav_menu": {},
   "number_sections": false,
   "sideBar": false,
   "skip_h1_title": false,
   "title_cell": "Table of Contents",
   "title_sidebar": "Contents",
   "toc_cell": false,
   "toc_position": {
    "height": "47.71px",
    "left": "25px",
    "top": "111.14px",
    "width": "158.99px"
   },
   "toc_section_display": false,
   "toc_window_display": true
  },
  "varInspector": {
   "cols": {
    "lenName": 16,
    "lenType": 16,
    "lenVar": 40
   },
   "kernels_config": {
    "python": {
     "delete_cmd_postfix": "",
     "delete_cmd_prefix": "del ",
     "library": "var_list.py",
     "varRefreshCmd": "print(var_dic_list())"
    },
    "r": {
     "delete_cmd_postfix": ") ",
     "delete_cmd_prefix": "rm(",
     "library": "var_list.r",
     "varRefreshCmd": "cat(var_dic_list()) "
    }
   },
   "types_to_exclude": [
    "module",
    "function",
    "builtin_function_or_method",
    "instance",
    "_Feature"
   ],
   "window_display": false
  }
 },
 "nbformat": 4,
 "nbformat_minor": 5
}
