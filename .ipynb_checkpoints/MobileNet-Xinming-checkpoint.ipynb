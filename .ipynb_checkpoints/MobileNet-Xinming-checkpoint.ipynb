{
 "cells": [
  {
   "cell_type": "markdown",
   "id": "7e2441da",
   "metadata": {},
   "source": [
    "# Mobile Net For Image Classification"
   ]
  },
  {
   "cell_type": "code",
   "execution_count": 1,
   "id": "870c934a",
   "metadata": {},
   "outputs": [],
   "source": [
    "from utils.model import Basic_CNN, mobilenet\n",
    "import tensorflow as tf\n",
    "from keras.optimizers import Adam, SGD"
   ]
  },
  {
   "cell_type": "markdown",
   "id": "917e5eb3",
   "metadata": {},
   "source": [
    "## 1. Basic CNN"
   ]
  },
  {
   "cell_type": "code",
   "execution_count": 2,
   "id": "1d335c8f",
   "metadata": {},
   "outputs": [],
   "source": [
    "#Load data from the Fashion MNIST dataset\n",
    "fashion_mnist = tf.keras.datasets.fashion_mnist\n",
    "\n",
    "(x_train, y_train), (x_test, y_test) = fashion_mnist.load_data()\n",
    "x_train, x_test = x_train / 255.0, x_test / 255.0\n",
    "\n",
    "# Add a channels dimension28\n",
    "x_train = x_train[..., tf.newaxis].astype(\"float32\")\n",
    "x_test = x_test[..., tf.newaxis].astype(\"float32\")"
   ]
  },
  {
   "cell_type": "code",
   "execution_count": 4,
   "id": "e5379b19",
   "metadata": {},
   "outputs": [
    {
     "name": "stdout",
     "output_type": "stream",
     "text": [
      "Epoch 1/10\n",
      "188/188 [==============================] - 4s 17ms/step - loss: 2.0372 - accuracy: 0.2461 - val_loss: 1.7243 - val_accuracy: 0.4094\n",
      "Epoch 2/10\n",
      "188/188 [==============================] - 3s 14ms/step - loss: 1.5220 - accuracy: 0.4618 - val_loss: 1.3539 - val_accuracy: 0.5293\n",
      "Epoch 3/10\n",
      "188/188 [==============================] - 3s 15ms/step - loss: 1.2575 - accuracy: 0.5530 - val_loss: 1.1661 - val_accuracy: 0.5978\n",
      "Epoch 4/10\n",
      "188/188 [==============================] - 3s 14ms/step - loss: 1.1246 - accuracy: 0.6005 - val_loss: 1.0791 - val_accuracy: 0.6220\n",
      "Epoch 5/10\n",
      "188/188 [==============================] - 3s 14ms/step - loss: 1.0676 - accuracy: 0.6173 - val_loss: 1.0412 - val_accuracy: 0.6288\n",
      "Epoch 6/10\n",
      "188/188 [==============================] - 3s 13ms/step - loss: 1.0426 - accuracy: 0.6239 - val_loss: 1.0289 - val_accuracy: 0.6292\n",
      "Epoch 7/10\n",
      "188/188 [==============================] - 3s 14ms/step - loss: 1.0305 - accuracy: 0.6270 - val_loss: 1.0148 - val_accuracy: 0.6346\n",
      "Epoch 8/10\n",
      "188/188 [==============================] - 3s 14ms/step - loss: 1.0228 - accuracy: 0.6283 - val_loss: 1.0081 - val_accuracy: 0.6339\n",
      "Epoch 9/10\n",
      "188/188 [==============================] - 3s 14ms/step - loss: 1.0170 - accuracy: 0.6294 - val_loss: 1.0062 - val_accuracy: 0.6276\n",
      "Epoch 10/10\n",
      "188/188 [==============================] - 3s 13ms/step - loss: 1.0120 - accuracy: 0.6301 - val_loss: 0.9964 - val_accuracy: 0.6369\n"
     ]
    }
   ],
   "source": [
    "CNN_model = Basic_CNN((28,28,1),10)\n",
    "CNN_model.create_empty_model()\n",
    "CNN_model.add_layer()\n",
    "CNN_model.train(x_train=x_train,y_train=y_train,optimizer=Adam(0.001),epochs=10)"
   ]
  },
  {
   "cell_type": "code",
   "execution_count": 5,
   "id": "752ad8d2",
   "metadata": {
    "scrolled": true
   },
   "outputs": [
    {
     "name": "stdout",
     "output_type": "stream",
     "text": [
      "Model: \"sequential_1\"\n",
      "_________________________________________________________________\n",
      " Layer (type)                Output Shape              Param #   \n",
      "=================================================================\n",
      " conv2d_1 (Conv2D)           (None, 13, 13, 32)        320       \n",
      "                                                                 \n",
      " depthwise_conv2d_1 (Depthwi  (None, 11, 11, 32)       320       \n",
      " seConv2D)                                                       \n",
      "                                                                 \n",
      " average_pooling2d_1 (Averag  (None, 1, 1, 32)         0         \n",
      " ePooling2D)                                                     \n",
      "                                                                 \n",
      " flatten_1 (Flatten)         (None, 32)                0         \n",
      "                                                                 \n",
      " dense_1 (Dense)             (None, 10)                330       \n",
      "                                                                 \n",
      "=================================================================\n",
      "Total params: 970\n",
      "Trainable params: 970\n",
      "Non-trainable params: 0\n",
      "_________________________________________________________________\n"
     ]
    }
   ],
   "source": [
    "CNN_model.summary()"
   ]
  },
  {
   "cell_type": "markdown",
   "id": "0526c690",
   "metadata": {},
   "source": [
    "我在Model的文件里，创建了一个MobileNet和BasicCNN\n",
    "\n",
    "BasicCNN 可以跑， MobileNet好像不太能跑，你们可以看一下 差不多就是这样。"
   ]
  },
  {
   "cell_type": "code",
   "execution_count": null,
   "id": "8aa2c73d",
   "metadata": {},
   "outputs": [],
   "source": []
  }
 ],
 "metadata": {
  "kernelspec": {
   "display_name": "Python 3 (ipykernel)",
   "language": "python",
   "name": "python3"
  },
  "language_info": {
   "codemirror_mode": {
    "name": "ipython",
    "version": 3
   },
   "file_extension": ".py",
   "mimetype": "text/x-python",
   "name": "python",
   "nbconvert_exporter": "python",
   "pygments_lexer": "ipython3",
   "version": "3.9.12"
  },
  "toc": {
   "base_numbering": 1,
   "nav_menu": {},
   "number_sections": false,
   "sideBar": false,
   "skip_h1_title": false,
   "title_cell": "Table of Contents",
   "title_sidebar": "Contents",
   "toc_cell": false,
   "toc_position": {
    "height": "47.71px",
    "left": "25px",
    "top": "111.14px",
    "width": "158.99px"
   },
   "toc_section_display": false,
   "toc_window_display": true
  },
  "varInspector": {
   "cols": {
    "lenName": 16,
    "lenType": 16,
    "lenVar": 40
   },
   "kernels_config": {
    "python": {
     "delete_cmd_postfix": "",
     "delete_cmd_prefix": "del ",
     "library": "var_list.py",
     "varRefreshCmd": "print(var_dic_list())"
    },
    "r": {
     "delete_cmd_postfix": ") ",
     "delete_cmd_prefix": "rm(",
     "library": "var_list.r",
     "varRefreshCmd": "cat(var_dic_list()) "
    }
   },
   "types_to_exclude": [
    "module",
    "function",
    "builtin_function_or_method",
    "instance",
    "_Feature"
   ],
   "window_display": false
  }
 },
 "nbformat": 4,
 "nbformat_minor": 5
}
